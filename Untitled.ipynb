{
 "cells": [
  {
   "cell_type": "markdown",
   "id": "b8d5bb0c-1444-4098-aa93-74f1526748dc",
   "metadata": {},
   "source": [
    "# Test - Exercise 1.2"
   ]
  },
  {
   "cell_type": "code",
   "execution_count": 1,
   "id": "35221b92-da01-4214-bd40-7e9ae6f2fc27",
   "metadata": {
    "tags": []
   },
   "outputs": [],
   "source": [
    "Apple = 1"
   ]
  },
  {
   "cell_type": "code",
   "execution_count": 2,
   "id": "686b73c1-6e69-4c40-913c-d63341c8b7db",
   "metadata": {
    "tags": []
   },
   "outputs": [],
   "source": [
    "Banana = 2"
   ]
  },
  {
   "cell_type": "code",
   "execution_count": 3,
   "id": "ff4db4b6-fbc6-44ef-a9da-71c842a30eaa",
   "metadata": {
    "tags": []
   },
   "outputs": [
    {
     "data": {
      "text/plain": [
       "3"
      ]
     },
     "execution_count": 3,
     "metadata": {},
     "output_type": "execute_result"
    }
   ],
   "source": [
    "Apple + Banana"
   ]
  },
  {
   "cell_type": "code",
   "execution_count": 4,
   "id": "4ccea4f4-ab71-4398-9086-212f37119056",
   "metadata": {
    "tags": []
   },
   "outputs": [],
   "source": [
    "Pear = 4"
   ]
  },
  {
   "cell_type": "code",
   "execution_count": 5,
   "id": "39be2c1e-9ac3-4ba9-8316-2e23e2e45925",
   "metadata": {
    "tags": []
   },
   "outputs": [
    {
     "data": {
      "text/plain": [
       "3.0"
      ]
     },
     "execution_count": 5,
     "metadata": {},
     "output_type": "execute_result"
    }
   ],
   "source": [
    "(Banana + Pear)/Banana"
   ]
  },
  {
   "cell_type": "code",
   "execution_count": null,
   "id": "78663875-b256-4f29-a90a-38979d2576ac",
   "metadata": {},
   "outputs": [],
   "source": []
  }
 ],
 "metadata": {
  "kernelspec": {
   "display_name": "Python 3 (ipykernel)",
   "language": "python",
   "name": "python3"
  },
  "language_info": {
   "codemirror_mode": {
    "name": "ipython",
    "version": 3
   },
   "file_extension": ".py",
   "mimetype": "text/x-python",
   "name": "python",
   "nbconvert_exporter": "python",
   "pygments_lexer": "ipython3",
   "version": "3.11.5"
  }
 },
 "nbformat": 4,
 "nbformat_minor": 5
}
